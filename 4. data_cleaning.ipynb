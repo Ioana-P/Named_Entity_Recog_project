{
 "cells": [
  {
   "cell_type": "markdown",
   "metadata": {},
   "source": [
    "<a id=contents></a>\n",
    "\n",
    "# Cleaning notebook\n",
    "## Subtitle\n",
    "\n",
    "\n",
    "[1. Data Inspection](#insp)\n",
    "\n",
    "[2. Cleaning numerical data](#numerical)\n",
    "\n",
    "[3. Cleaning categorical data](#categ)\n",
    "\n",
    "[4. Cleaning text data](#text)"
   ]
  },
  {
   "cell_type": "code",
   "execution_count": 1,
   "metadata": {},
   "outputs": [],
   "source": [
    "\n",
    "import pandas as pd\n",
    "import numpy as np\n",
    "\n",
    "from sklearn.cluster import KMeans\n",
    "import scipy.cluster.hierarchy as shc\n",
    "\n",
    "import matplotlib.pyplot as plt\n",
    "import seaborn as sns\n",
    "\n",
    "%matplotlib inline\n",
    "sns.set_style(\"darkgrid\")\n",
    "\n",
    "from sklearn.feature_extraction.text import CountVectorizer, TfidfVectorizer\n",
    "import nltk\n",
    "from sklearn.linear_model import LogisticRegression\n",
    "from nltk.probability import FreqDist\n",
    "from nltk.corpus import stopwords\n",
    "from nltk.stem import PorterStemmer\n",
    "from sklearn.metrics import confusion_matrix, multilabel_confusion_matrix\n",
    "from sklearn.naive_bayes import MultinomialNB\n",
    "from sklearn import metrics\n",
    "from sklearn.model_selection import train_test_split, GridSearchCV\n",
    "from matplotlib import cm\n",
    "import numpy as np\n",
    "from sklearn.ensemble import RandomForestClassifier,GradientBoostingClassifier\n",
    "from sklearn.metrics import accuracy_score, roc_auc_score, roc_curve\n",
    "from sklearn.metrics import f1_score\n",
    "from sklearn.naive_bayes import GaussianNB\n",
    "from sklearn.metrics import silhouette_score\n",
    "from sklearn.cluster import KMeans\n",
    "from sklearn.decomposition import TruncatedSVD\n",
    "import string\n",
    "\n",
    "from nltk.corpus import stopwords\n",
    "from nltk.tokenize import RegexpTokenizer\n",
    "import re\n",
    "tokenizer = RegexpTokenizer(r'\\b\\w{3,}\\b')\n",
    "stop_words = list(set(stopwords.words(\"english\")))\n",
    "stop_words += list(string.punctuation)\n",
    "\n",
    "import warnings\n",
    "warnings.filterwarnings('ignore')\n",
    "\n",
    "%load_ext autoreload\n",
    "%autoreload 2"
   ]
  },
  {
   "cell_type": "markdown",
   "metadata": {},
   "source": [
    "<a id=insp ><a/> \n",
    "\n",
    "## 1. Data Inspection\n",
    "    \n",
    "[LINK to table of contents](#contents)"
   ]
  },
  {
   "cell_type": "markdown",
   "metadata": {},
   "source": [
    "Let's load up the data and answer:\n",
    "* how many sentences and words do we have?\n",
    "* What is the distribution of NE tags?\n",
    "* What is the distribution of Part of Sentence (POS) tags?"
   ]
  },
  {
   "cell_type": "code",
   "execution_count": 6,
   "metadata": {},
   "outputs": [
    {
     "data": {
      "text/html": [
       "<div>\n",
       "<style scoped>\n",
       "    .dataframe tbody tr th:only-of-type {\n",
       "        vertical-align: middle;\n",
       "    }\n",
       "\n",
       "    .dataframe tbody tr th {\n",
       "        vertical-align: top;\n",
       "    }\n",
       "\n",
       "    .dataframe thead th {\n",
       "        text-align: right;\n",
       "    }\n",
       "</style>\n",
       "<table border=\"1\" class=\"dataframe\">\n",
       "  <thead>\n",
       "    <tr style=\"text-align: right;\">\n",
       "      <th></th>\n",
       "      <th>Sentence #</th>\n",
       "      <th>Word</th>\n",
       "      <th>POS</th>\n",
       "      <th>Tag</th>\n",
       "    </tr>\n",
       "  </thead>\n",
       "  <tbody>\n",
       "    <tr>\n",
       "      <th>0</th>\n",
       "      <td>1.0</td>\n",
       "      <td>Thousands</td>\n",
       "      <td>NNS</td>\n",
       "      <td>O</td>\n",
       "    </tr>\n",
       "    <tr>\n",
       "      <th>1</th>\n",
       "      <td>1.0</td>\n",
       "      <td>of</td>\n",
       "      <td>IN</td>\n",
       "      <td>O</td>\n",
       "    </tr>\n",
       "    <tr>\n",
       "      <th>2</th>\n",
       "      <td>1.0</td>\n",
       "      <td>demonstrators</td>\n",
       "      <td>NNS</td>\n",
       "      <td>O</td>\n",
       "    </tr>\n",
       "    <tr>\n",
       "      <th>3</th>\n",
       "      <td>1.0</td>\n",
       "      <td>have</td>\n",
       "      <td>VBP</td>\n",
       "      <td>O</td>\n",
       "    </tr>\n",
       "    <tr>\n",
       "      <th>4</th>\n",
       "      <td>1.0</td>\n",
       "      <td>marched</td>\n",
       "      <td>VBN</td>\n",
       "      <td>O</td>\n",
       "    </tr>\n",
       "  </tbody>\n",
       "</table>\n",
       "</div>"
      ],
      "text/plain": [
       "   Sentence #           Word  POS Tag\n",
       "0         1.0      Thousands  NNS   O\n",
       "1         1.0             of   IN   O\n",
       "2         1.0  demonstrators  NNS   O\n",
       "3         1.0           have  VBP   O\n",
       "4         1.0        marched  VBN   O"
      ]
     },
     "execution_count": 6,
     "metadata": {},
     "output_type": "execute_result"
    }
   ],
   "source": [
    "df = pd.read_csv('raw_data/GMB_dataset.txt', sep='\\t' , encoding='unicode_escape').drop(columns=['Unnamed: 0'])\n",
    "df.head()"
   ]
  },
  {
   "cell_type": "code",
   "execution_count": 8,
   "metadata": {},
   "outputs": [
    {
     "name": "stdout",
     "output_type": "stream",
     "text": [
      "<class 'pandas.core.frame.DataFrame'>\n",
      "RangeIndex: 66161 entries, 0 to 66160\n",
      "Data columns (total 4 columns):\n",
      " #   Column      Non-Null Count  Dtype  \n",
      "---  ------      --------------  -----  \n",
      " 0   Sentence #  66161 non-null  float64\n",
      " 1   Word        66161 non-null  object \n",
      " 2   POS         66161 non-null  object \n",
      " 3   Tag         66161 non-null  object \n",
      "dtypes: float64(1), object(3)\n",
      "memory usage: 2.0+ MB\n"
     ]
    }
   ],
   "source": [
    "df.info();"
   ]
  },
  {
   "cell_type": "code",
   "execution_count": 10,
   "metadata": {},
   "outputs": [
    {
     "data": {
      "text/plain": [
       "2999"
      ]
     },
     "execution_count": 10,
     "metadata": {},
     "output_type": "execute_result"
    }
   ],
   "source": [
    "df['Sentence #'].nunique()"
   ]
  },
  {
   "cell_type": "markdown",
   "metadata": {},
   "source": [
    "So we have over 66 thousand words to look at amongst just under 3000 sentences, each with  Part of Sentence (POS) tag and an NE tag."
   ]
  },
  {
   "cell_type": "code",
   "execution_count": 27,
   "metadata": {
    "scrolled": true
   },
   "outputs": [
    {
     "name": "stdout",
     "output_type": "stream",
     "text": [
      "Index(['NN', 'NNP', 'IN', 'DT', 'JJ', 'NNS', '.', 'VBD', 'VBN', ',', 'VBZ',\n",
      "       'VB', 'CC', 'CD', 'TO', 'RB', 'VBG', 'VBP', 'PRP', 'POS', 'PRP$', 'MD',\n",
      "       '``', 'WDT', 'JJR', 'JJS', 'WP', 'WRB', 'NNPS', 'RP', 'RBR', '$', ':',\n",
      "       'RRB', 'EX', 'LRB', ';', 'RBS', 'PDT', 'WP$', 'UH'],\n",
      "      dtype='object')\n"
     ]
    }
   ],
   "source": [
    "pos_dist = df.POS.value_counts(normalize=True)\n",
    "print(pos_dist.index)"
   ]
  },
  {
   "cell_type": "markdown",
   "metadata": {},
   "source": [
    "We have 41 POS categories. I've included a table below that was adapted from *Natural Language Processing with Python*, by Steven Bird, Ewan Klein and Edward Loper. [Link to specific chapter](https://www.nltk.org/book/ch05.html)"
   ]
  },
  {
   "cell_type": "markdown",
   "metadata": {},
   "source": [
    "|Tag | Meaning | English Examples |\n",
    "| :---| :----- | :--------------- | \n",
    "|JJ  | adjective | new, good, high\n",
    "| JJR| Adjective, comparative | newer, better, higher\n",
    "| JJS| Adjective, superlative | newest, best, highest\n",
    "| MD | Modal | can, must, will, may\n",
    "|IN  | Preposition or subordinating conjunction | on, of, at, with, by, into , under\n",
    "| CC | Coordinating conjunction | but, and, for, nor\n",
    "| CD | Cardinal number | one, 2, fifty, a thousand\n",
    "| TO | to | to\n",
    "| FW| Foreign word | rendez-vous, schadenfreude\n",
    "| EX| Existential there | e.g. \"There is a place ...\"\n",
    "| PDT| Predeterminer | both, all\n",
    "| POS| Possessive ending | 's\n",
    "| PRP| Personal pronoun | he, she, they\n",
    "| PRP\\$ | Possessive pronoun | mine, yours, theirs, hers\n",
    "| ADV| adverb |really, already, still, early, now\n",
    "| DT | Determiner | the, a, an\n",
    "| VB | Verb, base form | buy, strike, burrow\n",
    "| VBD| Verb, past tense | bought, striked, burrowed\n",
    "| VBG| Verb, gerund or present participle | buying, striking, burrowing\n",
    "| VBN| Verb, past participle | (was) buying, (was) striking, (was) burrowing\n",
    "| VBP| Verb, non-3rd person singular present | buy, strike, burrown\n",
    "| VBZ| Verb, 3rd person singular present | buys, strikes, burrows\n",
    "| RB | Adverb | quickly, meekly, loudly\n",
    "| RBR| Adverb, comparative | quicker, meaker, louder\n",
    "| RBS| Adverb, superlative | quickest, meekest, loudest\n",
    "| WDT| Wh-determiner | who, what, when, where\n",
    "|DET| determiner, article | the, a, some, most, every, no, which\n",
    "|NN| noun, singular or mass | year, home, cost, time,\n",
    "|NNP| proper noun, singular | Africa, John, Bush\n",
    "|NNS| noun, plural | sheep, buckets, persons\n",
    "| NNPS | Proper noun, plural| Grammys, Oscars\n",
    "|\\$| numeral |twenty-four, fourth, 1991, 14:24\n",
    "|RP| particle | at, on, out, over per, that, up, with\n",
    "| WP| Wh-pronoun | who, whether, which\n",
    "| WP$| Possessive wh-pronoun | whose\n",
    "| WRB| Wh-adverb | whence, where, why\n",
    "| LS| List item marker | \n",
    "| UH| Interjection | hey, yo, huzzah\n",
    "| LRB | Open parenthesis | (, [, {\n",
    "| RRB | Close parenthesis | ), ], }\n",
    "|. | punctuation marks | . , ; !\n",
    "|X | other | ersatz, esprit, dunno, gr8, univeristy\n",
    "\n"
   ]
  },
  {
   "cell_type": "markdown",
   "metadata": {},
   "source": [
    "Upon immediate inspection, there are some categories that are redundant (specifically ',' , '\\`' and ';'). Since they're all clearly punctuation that aren't part of a list marking, I'll be reallocating their values to be the same as the POS tag for punctuation - '.'. This won't lose too much information if you consider that the original content will still be maintained, namely the actual punctuation in and of itself. "
   ]
  },
  {
   "cell_type": "markdown",
   "metadata": {},
   "source": [
    "<a id=numerical ><a/> \n",
    "\n",
    "## 2. Cleaning data\n",
    "    \n",
    "[LINK to table of contents](#contents)"
   ]
  },
  {
   "cell_type": "code",
   "execution_count": 32,
   "metadata": {
    "scrolled": true
   },
   "outputs": [
    {
     "data": {
      "text/plain": [
       "NN      9307\n",
       "NNP     8189\n",
       "IN      7759\n",
       "DT      6310\n",
       ".       5208\n",
       "JJ      4875\n",
       "NNS     4803\n",
       "VBD     2429\n",
       "VBN     2060\n",
       "VBZ     1644\n",
       "VB      1538\n",
       "CC      1475\n",
       "CD      1474\n",
       "TO      1449\n",
       "RB      1324\n",
       "VBG     1180\n",
       "VBP     1028\n",
       "PRP      887\n",
       "POS      694\n",
       "PRP$     533\n",
       "MD       454\n",
       "WDT      209\n",
       "JJR      198\n",
       "JJS      179\n",
       "WP       158\n",
       "WRB      153\n",
       "NNPS     146\n",
       "RP       143\n",
       "RBR       77\n",
       "$         61\n",
       ":         54\n",
       "RRB       43\n",
       "EX        43\n",
       "LRB       43\n",
       "RBS       16\n",
       "PDT       12\n",
       "WP$        5\n",
       "UH         1\n",
       "Name: POS, dtype: int64"
      ]
     },
     "execution_count": 32,
     "metadata": {},
     "output_type": "execute_result"
    }
   ],
   "source": [
    "for i in [',', '`', ';', '``']:\n",
    "    df.loc[df.POS == i, 'POS'] = '.'\n",
    "    \n",
    "df.POS.value_counts()"
   ]
  },
  {
   "cell_type": "code",
   "execution_count": 34,
   "metadata": {},
   "outputs": [
    {
     "data": {
      "text/plain": [
       "38"
      ]
     },
     "execution_count": 34,
     "metadata": {},
     "output_type": "execute_result"
    }
   ],
   "source": [
    "pos_dist = df.POS.value_counts(normalize=True)\n",
    "len(pos_dist.index)"
   ]
  },
  {
   "cell_type": "code",
   "execution_count": 37,
   "metadata": {},
   "outputs": [
    {
     "data": {
      "image/png": "[encoded data removed]",
      "text/plain": [
       "<Figure size 720x576 with 1 Axes>"
      ]
     },
     "metadata": {},
     "output_type": "display_data"
    }
   ],
   "source": [
    "plt.figure(figsize=(10,8))\n",
    "plt.title('Distribution of Part of Sentence tags')\n",
    "sns.barplot(y = pos_dist.index, x= pos_dist.values, )\n",
    "plt.xlabel('Relative frequency');"
   ]
  },
  {
   "cell_type": "markdown",
   "metadata": {},
   "source": [
    "So we can see now that we've got quite a skewed POS distribution, primarily skewed towards nouns. We'll explore this in more detail in notebook 3. For now let's save the cleaned data. "
   ]
  },
  {
   "cell_type": "markdown",
   "metadata": {},
   "source": [
    "<a id=text ><a/> \n",
    "\n",
    "## 3. Saving clean data\n",
    "    \n",
    "[LINK to table of contents](#contents)"
   ]
  },
  {
   "cell_type": "code",
   "execution_count": 122,
   "metadata": {},
   "outputs": [],
   "source": [
    "df.to_csv('clean_data/clean_data.csv')"
   ]
  }
 ],
 "metadata": {
  "kernelspec": {
   "display_name": "Python 3.6.6 ('learn-env')",
   "language": "python",
   "name": "python3"
  },
  "language_info": {
   "codemirror_mode": {
    "name": "ipython",
    "version": 3
   },
   "file_extension": ".py",
   "mimetype": "text/x-python",
   "name": "python",
   "nbconvert_exporter": "python",
   "pygments_lexer": "ipython3",
   "version": "3.6.6"
  },
  "vscode": {
   "interpreter": {
    "hash": "b00071ac88e949ce0644518a6940241ef6b9eee395ff91fea2e30108d4837aaf"
   }
  }
 },
 "nbformat": 4,
 "nbformat_minor": 4
}
