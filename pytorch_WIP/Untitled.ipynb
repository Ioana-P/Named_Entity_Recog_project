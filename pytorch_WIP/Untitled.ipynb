{
 "cells": [
  {
   "cell_type": "code",
   "execution_count": null,
   "metadata": {},
   "outputs": [
    {
     "name": "stderr",
     "output_type": "stream",
     "text": [
      "[autoreload of torch failed: Traceback (most recent call last):\n",
      "  File \"/Users/ipreoteasa/opt/anaconda3/envs/learn-env/lib/python3.6/site-packages/IPython/extensions/autoreload.py\", line 245, in check\n",
      "    superreload(m, reload, self.old_objects)\n",
      "  File \"/Users/ipreoteasa/opt/anaconda3/envs/learn-env/lib/python3.6/site-packages/IPython/extensions/autoreload.py\", line 394, in superreload\n",
      "    module = reload(module)\n",
      "  File \"/Users/ipreoteasa/opt/anaconda3/envs/learn-env/lib/python3.6/imp.py\", line 315, in reload\n",
      "    return importlib.reload(module)\n",
      "  File \"/Users/ipreoteasa/opt/anaconda3/envs/learn-env/lib/python3.6/importlib/__init__.py\", line 166, in reload\n",
      "    _bootstrap._exec(spec, module)\n",
      "  File \"<frozen importlib._bootstrap>\", line 618, in _exec\n",
      "  File \"<frozen importlib._bootstrap_external>\", line 678, in exec_module\n",
      "  File \"<frozen importlib._bootstrap>\", line 219, in _call_with_frames_removed\n",
      "  File \"/Users/ipreoteasa/opt/anaconda3/envs/learn-env/lib/python3.6/site-packages/torch/__init__.py\", line 22, in <module>\n",
      "    from ._utils_internal import get_file_path, prepare_multiprocessing_environment, \\\n",
      "ImportError: cannot import name 'USE_GLOBAL_DEPS'\n",
      "]\n",
      "[autoreload of torch.tensor failed: Traceback (most recent call last):\n",
      "  File \"/Users/ipreoteasa/opt/anaconda3/envs/learn-env/lib/python3.6/site-packages/IPython/extensions/autoreload.py\", line 245, in check\n",
      "    superreload(m, reload, self.old_objects)\n",
      "  File \"/Users/ipreoteasa/opt/anaconda3/envs/learn-env/lib/python3.6/site-packages/IPython/extensions/autoreload.py\", line 394, in superreload\n",
      "    module = reload(module)\n",
      "  File \"/Users/ipreoteasa/opt/anaconda3/envs/learn-env/lib/python3.6/imp.py\", line 315, in reload\n",
      "    return importlib.reload(module)\n",
      "  File \"/Users/ipreoteasa/opt/anaconda3/envs/learn-env/lib/python3.6/importlib/__init__.py\", line 166, in reload\n",
      "    _bootstrap._exec(spec, module)\n",
      "  File \"<frozen importlib._bootstrap>\", line 618, in _exec\n",
      "  File \"<frozen importlib._bootstrap_external>\", line 678, in exec_module\n",
      "  File \"<frozen importlib._bootstrap>\", line 219, in _call_with_frames_removed\n",
      "  File \"/Users/ipreoteasa/opt/anaconda3/envs/learn-env/lib/python3.6/site-packages/torch/tensor.py\", line 40, in <module>\n",
      "    class Tensor(torch._C._TensorBase):\n",
      "  File \"/Users/ipreoteasa/opt/anaconda3/envs/learn-env/lib/python3.6/site-packages/torch/tensor.py\", line 312, in Tensor\n",
      "    \"\"\")\n",
      "RuntimeError: method 'detach' already has a docstring\n",
      "]\n",
      "[autoreload of torch.cuda failed: Traceback (most recent call last):\n",
      "  File \"/Users/ipreoteasa/opt/anaconda3/envs/learn-env/lib/python3.6/site-packages/IPython/extensions/autoreload.py\", line 245, in check\n",
      "    superreload(m, reload, self.old_objects)\n",
      "  File \"/Users/ipreoteasa/opt/anaconda3/envs/learn-env/lib/python3.6/site-packages/IPython/extensions/autoreload.py\", line 394, in superreload\n",
      "    module = reload(module)\n",
      "  File \"/Users/ipreoteasa/opt/anaconda3/envs/learn-env/lib/python3.6/imp.py\", line 315, in reload\n",
      "    return importlib.reload(module)\n",
      "  File \"/Users/ipreoteasa/opt/anaconda3/envs/learn-env/lib/python3.6/importlib/__init__.py\", line 166, in reload\n",
      "    _bootstrap._exec(spec, module)\n",
      "  File \"<frozen importlib._bootstrap>\", line 618, in _exec\n",
      "  File \"<frozen importlib._bootstrap_external>\", line 678, in exec_module\n",
      "  File \"<frozen importlib._bootstrap>\", line 219, in _call_with_frames_removed\n",
      "  File \"/Users/ipreoteasa/opt/anaconda3/envs/learn-env/lib/python3.6/site-packages/torch/cuda/__init__.py\", line 18, in <module>\n",
      "    from ._utils import _get_device_index, _dummy_type\n",
      "ImportError: cannot import name '_dummy_type'\n",
      "]\n",
      "[autoreload of torch.functional failed: Traceback (most recent call last):\n",
      "  File \"/Users/ipreoteasa/opt/anaconda3/envs/learn-env/lib/python3.6/site-packages/IPython/extensions/autoreload.py\", line 245, in check\n",
      "    superreload(m, reload, self.old_objects)\n",
      "  File \"/Users/ipreoteasa/opt/anaconda3/envs/learn-env/lib/python3.6/site-packages/IPython/extensions/autoreload.py\", line 394, in superreload\n",
      "    module = reload(module)\n",
      "  File \"/Users/ipreoteasa/opt/anaconda3/envs/learn-env/lib/python3.6/imp.py\", line 315, in reload\n",
      "    return importlib.reload(module)\n",
      "  File \"/Users/ipreoteasa/opt/anaconda3/envs/learn-env/lib/python3.6/importlib/__init__.py\", line 166, in reload\n",
      "    _bootstrap._exec(spec, module)\n",
      "  File \"<frozen importlib._bootstrap>\", line 618, in _exec\n",
      "  File \"<frozen importlib._bootstrap_external>\", line 678, in exec_module\n",
      "  File \"<frozen importlib._bootstrap>\", line 219, in _call_with_frames_removed\n",
      "  File \"/Users/ipreoteasa/opt/anaconda3/envs/learn-env/lib/python3.6/site-packages/torch/functional.py\", line 9, in <module>\n",
      "    from .overrides import has_torch_function, handle_torch_function\n",
      "  File \"/Users/ipreoteasa/opt/anaconda3/envs/learn-env/lib/python3.6/site-packages/torch/overrides.py\", line 29, in <module>\n",
      "    from torch._C import _is_torch_function_enabled, _disabled_torch_function_impl\n",
      "ImportError: cannot import name '_is_torch_function_enabled'\n",
      "]\n",
      "[autoreload of torch.nn.modules failed: Traceback (most recent call last):\n",
      "  File \"/Users/ipreoteasa/opt/anaconda3/envs/learn-env/lib/python3.6/site-packages/IPython/extensions/autoreload.py\", line 245, in check\n",
      "    superreload(m, reload, self.old_objects)\n",
      "  File \"/Users/ipreoteasa/opt/anaconda3/envs/learn-env/lib/python3.6/site-packages/IPython/extensions/autoreload.py\", line 394, in superreload\n",
      "    module = reload(module)\n",
      "  File \"/Users/ipreoteasa/opt/anaconda3/envs/learn-env/lib/python3.6/imp.py\", line 315, in reload\n",
      "    return importlib.reload(module)\n",
      "  File \"/Users/ipreoteasa/opt/anaconda3/envs/learn-env/lib/python3.6/importlib/__init__.py\", line 166, in reload\n",
      "    _bootstrap._exec(spec, module)\n",
      "  File \"<frozen importlib._bootstrap>\", line 618, in _exec\n",
      "  File \"<frozen importlib._bootstrap_external>\", line 678, in exec_module\n",
      "  File \"<frozen importlib._bootstrap>\", line 219, in _call_with_frames_removed\n",
      "  File \"/Users/ipreoteasa/opt/anaconda3/envs/learn-env/lib/python3.6/site-packages/torch/nn/modules/__init__.py\", line 5, in <module>\n",
      "    from .activation import Threshold, ReLU, Hardtanh, ReLU6, Sigmoid, Tanh, \\\n",
      "ImportError: cannot import name 'Hardswish'\n",
      "]\n",
      "[autoreload of torch.nn.modules.module failed: Traceback (most recent call last):\n",
      "  File \"/Users/ipreoteasa/opt/anaconda3/envs/learn-env/lib/python3.6/site-packages/IPython/extensions/autoreload.py\", line 245, in check\n",
      "    superreload(m, reload, self.old_objects)\n",
      "  File \"/Users/ipreoteasa/opt/anaconda3/envs/learn-env/lib/python3.6/site-packages/IPython/extensions/autoreload.py\", line 394, in superreload\n",
      "    module = reload(module)\n",
      "  File \"/Users/ipreoteasa/opt/anaconda3/envs/learn-env/lib/python3.6/imp.py\", line 315, in reload\n",
      "    return importlib.reload(module)\n",
      "  File \"/Users/ipreoteasa/opt/anaconda3/envs/learn-env/lib/python3.6/importlib/__init__.py\", line 166, in reload\n",
      "    _bootstrap._exec(spec, module)\n",
      "  File \"<frozen importlib._bootstrap>\", line 618, in _exec\n",
      "  File \"<frozen importlib._bootstrap_external>\", line 678, in exec_module\n",
      "  File \"<frozen importlib._bootstrap>\", line 219, in _call_with_frames_removed\n",
      "  File \"/Users/ipreoteasa/opt/anaconda3/envs/learn-env/lib/python3.6/site-packages/torch/nn/modules/module.py\", line 8, in <module>\n",
      "    import torch.utils.hooks as hooks\n",
      "AttributeError: module 'torch.utils' has no attribute 'hooks'\n",
      "]\n",
      "[autoreload of torch.nn.parameter failed: Traceback (most recent call last):\n",
      "  File \"/Users/ipreoteasa/opt/anaconda3/envs/learn-env/lib/python3.6/site-packages/IPython/extensions/autoreload.py\", line 245, in check\n",
      "    superreload(m, reload, self.old_objects)\n",
      "  File \"/Users/ipreoteasa/opt/anaconda3/envs/learn-env/lib/python3.6/site-packages/IPython/extensions/autoreload.py\", line 394, in superreload\n",
      "    module = reload(module)\n",
      "  File \"/Users/ipreoteasa/opt/anaconda3/envs/learn-env/lib/python3.6/imp.py\", line 315, in reload\n",
      "    return importlib.reload(module)\n",
      "  File \"/Users/ipreoteasa/opt/anaconda3/envs/learn-env/lib/python3.6/importlib/__init__.py\", line 166, in reload\n",
      "    _bootstrap._exec(spec, module)\n",
      "  File \"<frozen importlib._bootstrap>\", line 618, in _exec\n",
      "  File \"<frozen importlib._bootstrap_external>\", line 678, in exec_module\n",
      "  File \"<frozen importlib._bootstrap>\", line 219, in _call_with_frames_removed\n",
      "  File \"/Users/ipreoteasa/opt/anaconda3/envs/learn-env/lib/python3.6/site-packages/torch/nn/parameter.py\", line 2, in <module>\n",
      "    from torch._C import _disabled_torch_function_impl\n",
      "ImportError: cannot import name '_disabled_torch_function_impl'\n",
      "]\n",
      "[autoreload of torch.nn.functional failed: Traceback (most recent call last):\n",
      "  File \"/Users/ipreoteasa/opt/anaconda3/envs/learn-env/lib/python3.6/site-packages/IPython/extensions/autoreload.py\", line 245, in check\n",
      "    superreload(m, reload, self.old_objects)\n",
      "  File \"/Users/ipreoteasa/opt/anaconda3/envs/learn-env/lib/python3.6/site-packages/IPython/extensions/autoreload.py\", line 394, in superreload\n",
      "    module = reload(module)\n",
      "  File \"/Users/ipreoteasa/opt/anaconda3/envs/learn-env/lib/python3.6/imp.py\", line 315, in reload\n",
      "    return importlib.reload(module)\n",
      "  File \"/Users/ipreoteasa/opt/anaconda3/envs/learn-env/lib/python3.6/importlib/__init__.py\", line 166, in reload\n",
      "    _bootstrap._exec(spec, module)\n",
      "  File \"<frozen importlib._bootstrap>\", line 618, in _exec\n",
      "  File \"<frozen importlib._bootstrap_external>\", line 678, in exec_module\n",
      "  File \"<frozen importlib._bootstrap>\", line 219, in _call_with_frames_removed\n",
      "  File \"/Users/ipreoteasa/opt/anaconda3/envs/learn-env/lib/python3.6/site-packages/torch/nn/functional.py\", line 13, in <module>\n",
      "    from ..overrides import has_torch_function, handle_torch_function\n",
      "  File \"/Users/ipreoteasa/opt/anaconda3/envs/learn-env/lib/python3.6/site-packages/torch/overrides.py\", line 29, in <module>\n",
      "    from torch._C import _is_torch_function_enabled, _disabled_torch_function_impl\n",
      "ImportError: cannot import name '_is_torch_function_enabled'\n",
      "]\n",
      "[autoreload of torch.nn.modules._functions failed: Traceback (most recent call last):\n",
      "  File \"/Users/ipreoteasa/opt/anaconda3/envs/learn-env/lib/python3.6/site-packages/IPython/extensions/autoreload.py\", line 245, in check\n",
      "    superreload(m, reload, self.old_objects)\n",
      "  File \"/Users/ipreoteasa/opt/anaconda3/envs/learn-env/lib/python3.6/site-packages/IPython/extensions/autoreload.py\", line 410, in superreload\n",
      "    update_generic(old_obj, new_obj)\n",
      "  File \"/Users/ipreoteasa/opt/anaconda3/envs/learn-env/lib/python3.6/site-packages/IPython/extensions/autoreload.py\", line 347, in update_generic\n",
      "    update(a, b)\n",
      "  File \"/Users/ipreoteasa/opt/anaconda3/envs/learn-env/lib/python3.6/site-packages/IPython/extensions/autoreload.py\", line 302, in update_class\n",
      "    if update_generic(old_obj, new_obj): continue\n",
      "  File \"/Users/ipreoteasa/opt/anaconda3/envs/learn-env/lib/python3.6/site-packages/IPython/extensions/autoreload.py\", line 347, in update_generic\n",
      "    update(a, b)\n",
      "  File \"/Users/ipreoteasa/opt/anaconda3/envs/learn-env/lib/python3.6/site-packages/IPython/extensions/autoreload.py\", line 302, in update_class\n",
      "    if update_generic(old_obj, new_obj): continue\n",
      "  File \"/Users/ipreoteasa/opt/anaconda3/envs/learn-env/lib/python3.6/site-packages/IPython/extensions/autoreload.py\", line 347, in update_generic\n",
      "    update(a, b)\n",
      "  File \"/Users/ipreoteasa/opt/anaconda3/envs/learn-env/lib/python3.6/site-packages/IPython/extensions/autoreload.py\", line 302, in update_class\n",
      "    if update_generic(old_obj, new_obj): continue\n",
      "  File \"/Users/ipreoteasa/opt/anaconda3/envs/learn-env/lib/python3.6/site-packages/IPython/extensions/autoreload.py\", line 347, in update_generic\n",
      "    update(a, b)\n",
      "  File \"/Users/ipreoteasa/opt/anaconda3/envs/learn-env/lib/python3.6/site-packages/IPython/extensions/autoreload.py\", line 302, in update_class\n",
      "    if update_generic(old_obj, new_obj): continue\n",
      "RecursionError: maximum recursion depth exceeded\n",
      "]\n",
      "[autoreload of torch.autograd failed: Traceback (most recent call last):\n",
      "  File \"/Users/ipreoteasa/opt/anaconda3/envs/learn-env/lib/python3.6/site-packages/IPython/extensions/autoreload.py\", line 245, in check\n",
      "    superreload(m, reload, self.old_objects)\n",
      "  File \"/Users/ipreoteasa/opt/anaconda3/envs/learn-env/lib/python3.6/site-packages/IPython/extensions/autoreload.py\", line 394, in superreload\n",
      "    module = reload(module)\n",
      "  File \"/Users/ipreoteasa/opt/anaconda3/envs/learn-env/lib/python3.6/imp.py\", line 315, in reload\n",
      "    return importlib.reload(module)\n",
      "  File \"/Users/ipreoteasa/opt/anaconda3/envs/learn-env/lib/python3.6/importlib/__init__.py\", line 166, in reload\n",
      "    _bootstrap._exec(spec, module)\n",
      "  File \"<frozen importlib._bootstrap>\", line 618, in _exec\n",
      "  File \"<frozen importlib._bootstrap_external>\", line 678, in exec_module\n",
      "  File \"<frozen importlib._bootstrap>\", line 219, in _call_with_frames_removed\n",
      "  File \"/Users/ipreoteasa/opt/anaconda3/envs/learn-env/lib/python3.6/site-packages/torch/autograd/__init__.py\", line 20, in <module>\n",
      "    from ..overrides import has_torch_function, handle_torch_function\n",
      "  File \"/Users/ipreoteasa/opt/anaconda3/envs/learn-env/lib/python3.6/site-packages/torch/overrides.py\", line 29, in <module>\n",
      "    from torch._C import _is_torch_function_enabled, _disabled_torch_function_impl\n",
      "ImportError: cannot import name '_is_torch_function_enabled'\n",
      "]\n",
      "[autoreload of torch.autograd.function failed: Traceback (most recent call last):\n",
      "  File \"/Users/ipreoteasa/opt/anaconda3/envs/learn-env/lib/python3.6/site-packages/IPython/extensions/autoreload.py\", line 245, in check\n",
      "    superreload(m, reload, self.old_objects)\n",
      "  File \"/Users/ipreoteasa/opt/anaconda3/envs/learn-env/lib/python3.6/site-packages/IPython/extensions/autoreload.py\", line 394, in superreload\n",
      "    module = reload(module)\n",
      "  File \"/Users/ipreoteasa/opt/anaconda3/envs/learn-env/lib/python3.6/imp.py\", line 315, in reload\n",
      "    return importlib.reload(module)\n",
      "  File \"/Users/ipreoteasa/opt/anaconda3/envs/learn-env/lib/python3.6/importlib/__init__.py\", line 166, in reload\n",
      "    _bootstrap._exec(spec, module)\n",
      "  File \"<frozen importlib._bootstrap>\", line 618, in _exec\n",
      "  File \"<frozen importlib._bootstrap_external>\", line 678, in exec_module\n",
      "  File \"<frozen importlib._bootstrap>\", line 219, in _call_with_frames_removed\n",
      "  File \"/Users/ipreoteasa/opt/anaconda3/envs/learn-env/lib/python3.6/site-packages/torch/autograd/function.py\", line 4, in <module>\n",
      "    import torch.utils.hooks as hooks\n",
      "AttributeError: module 'torch.utils' has no attribute 'hooks'\n",
      "]\n",
      "[autoreload of torch.autograd.gradcheck failed: Traceback (most recent call last):\n",
      "  File \"/Users/ipreoteasa/opt/anaconda3/envs/learn-env/lib/python3.6/site-packages/IPython/extensions/autoreload.py\", line 245, in check\n",
      "    superreload(m, reload, self.old_objects)\n",
      "  File \"/Users/ipreoteasa/opt/anaconda3/envs/learn-env/lib/python3.6/site-packages/IPython/extensions/autoreload.py\", line 394, in superreload\n",
      "    module = reload(module)\n",
      "  File \"/Users/ipreoteasa/opt/anaconda3/envs/learn-env/lib/python3.6/imp.py\", line 315, in reload\n",
      "    return importlib.reload(module)\n",
      "  File \"/Users/ipreoteasa/opt/anaconda3/envs/learn-env/lib/python3.6/importlib/__init__.py\", line 166, in reload\n",
      "    _bootstrap._exec(spec, module)\n",
      "  File \"<frozen importlib._bootstrap>\", line 618, in _exec\n",
      "  File \"<frozen importlib._bootstrap_external>\", line 678, in exec_module\n",
      "  File \"<frozen importlib._bootstrap>\", line 219, in _call_with_frames_removed\n",
      "  File \"/Users/ipreoteasa/opt/anaconda3/envs/learn-env/lib/python3.6/site-packages/torch/autograd/gradcheck.py\", line 5, in <module>\n",
      "    from torch.overrides import is_tensor_like\n",
      "  File \"/Users/ipreoteasa/opt/anaconda3/envs/learn-env/lib/python3.6/site-packages/torch/overrides.py\", line 29, in <module>\n",
      "    from torch._C import _is_torch_function_enabled, _disabled_torch_function_impl\n",
      "ImportError: cannot import name '_is_torch_function_enabled'\n",
      "]\n",
      "[autoreload of torch.testing failed: Traceback (most recent call last):\n",
      "  File \"/Users/ipreoteasa/opt/anaconda3/envs/learn-env/lib/python3.6/site-packages/IPython/extensions/autoreload.py\", line 245, in check\n",
      "    superreload(m, reload, self.old_objects)\n",
      "  File \"/Users/ipreoteasa/opt/anaconda3/envs/learn-env/lib/python3.6/site-packages/IPython/extensions/autoreload.py\", line 394, in superreload\n",
      "    module = reload(module)\n",
      "  File \"/Users/ipreoteasa/opt/anaconda3/envs/learn-env/lib/python3.6/imp.py\", line 315, in reload\n",
      "    return importlib.reload(module)\n",
      "  File \"/Users/ipreoteasa/opt/anaconda3/envs/learn-env/lib/python3.6/importlib/__init__.py\", line 166, in reload\n",
      "    _bootstrap._exec(spec, module)\n",
      "  File \"<frozen importlib._bootstrap>\", line 618, in _exec\n",
      "  File \"<frozen importlib._bootstrap_external>\", line 678, in exec_module\n",
      "  File \"<frozen importlib._bootstrap>\", line 219, in _call_with_frames_removed\n",
      "  File \"/Users/ipreoteasa/opt/anaconda3/envs/learn-env/lib/python3.6/site-packages/torch/testing/__init__.py\", line 280, in <module>\n",
      "    _floating_and_complex_types = _floating_types + (torch.cfloat, torch.cdouble)\n",
      "AttributeError: module 'torch' has no attribute 'cfloat'\n",
      "]\n"
     ]
    }
   ],
   "source": [
    "import pandas as pd\n",
    "\n",
    "%load_ext autoreload\n",
    "%autoreload 2"
   ]
  },
  {
   "cell_type": "code",
   "execution_count": 262,
   "metadata": {},
   "outputs": [],
   "source": [
    "from NER_ETL import EntityETL"
   ]
  },
  {
   "cell_type": "code",
   "execution_count": 263,
   "metadata": {},
   "outputs": [],
   "source": [
    "ner = EntityETL('glove/glove.6B.50d.txt', 50)"
   ]
  },
  {
   "cell_type": "code",
   "execution_count": 264,
   "metadata": {},
   "outputs": [],
   "source": [
    "ner.load_train_vocab_nn('clean_data/clean_data.csv')"
   ]
  },
  {
   "cell_type": "code",
   "execution_count": 265,
   "metadata": {},
   "outputs": [
    {
     "data": {
      "text/plain": [
       "8768"
      ]
     },
     "execution_count": 265,
     "metadata": {},
     "output_type": "execute_result"
    }
   ],
   "source": [
    "ner.vocab_size"
   ]
  },
  {
   "cell_type": "code",
   "execution_count": 266,
   "metadata": {},
   "outputs": [
    {
     "data": {
      "text/plain": [
       "{'UNK_NE': 0,\n",
       " 'PAD': 1,\n",
       " 'I-gpe': 1,\n",
       " 'I-tim': 2,\n",
       " 'B-art': 3,\n",
       " 'I-art': 4,\n",
       " 'I-per': 5,\n",
       " 'B-geo': 6,\n",
       " 'O': 7,\n",
       " 'I-nat': 8,\n",
       " 'I-eve': 9,\n",
       " 'I-geo': 10,\n",
       " 'B-nat': 11,\n",
       " 'B-gpe': 12,\n",
       " 'B-org': 13,\n",
       " 'I-org': 14,\n",
       " 'B-per': 15,\n",
       " 'B-tim': 16,\n",
       " 'B-eve': 17}"
      ]
     },
     "execution_count": 266,
     "metadata": {},
     "output_type": "execute_result"
    }
   ],
   "source": [
    "ner.ne_tag_map"
   ]
  },
  {
   "cell_type": "code",
   "execution_count": 267,
   "metadata": {
    "scrolled": true
   },
   "outputs": [
    {
     "data": {
      "text/plain": [
       "{'UNK_POS': 0,\n",
       " 'PAD': 1,\n",
       " 'WRB': 1,\n",
       " 'MD': 2,\n",
       " 'JJS': 3,\n",
       " 'RRB': 4,\n",
       " 'VBN': 5,\n",
       " 'CC': 6,\n",
       " 'WDT': 7,\n",
       " 'PRP$': 8,\n",
       " 'LRB': 9,\n",
       " 'VB': 10,\n",
       " 'WP$': 11,\n",
       " 'RB': 12,\n",
       " 'IN': 13,\n",
       " 'NN': 14,\n",
       " '.': 15,\n",
       " '$': 16,\n",
       " 'PRP': 17,\n",
       " 'RP': 18,\n",
       " ':': 19,\n",
       " 'NNS': 20,\n",
       " 'PDT': 21,\n",
       " 'WP': 22,\n",
       " 'RBR': 23,\n",
       " 'NNP': 24,\n",
       " 'DT': 25,\n",
       " 'UH': 26,\n",
       " 'NNPS': 27,\n",
       " 'POS': 28,\n",
       " 'VBP': 29,\n",
       " 'VBG': 30,\n",
       " 'RBS': 31,\n",
       " 'VBZ': 32,\n",
       " 'VBD': 33,\n",
       " 'EX': 34,\n",
       " 'TO': 35,\n",
       " 'JJ': 36,\n",
       " 'CD': 37,\n",
       " 'JJR': 38}"
      ]
     },
     "execution_count": 267,
     "metadata": {},
     "output_type": "execute_result"
    }
   ],
   "source": [
    "ner.pos_tag_map"
   ]
  },
  {
   "cell_type": "code",
   "execution_count": 268,
   "metadata": {
    "scrolled": true
   },
   "outputs": [],
   "source": [
    "train_sent, train_labels = ner.load_train_input_data('clean_data/clean_data.csv')"
   ]
  },
  {
   "cell_type": "code",
   "execution_count": 269,
   "metadata": {},
   "outputs": [
    {
     "data": {
      "text/plain": [
       "['Other',\n",
       " 'options',\n",
       " 'include',\n",
       " 'moving',\n",
       " 'the',\n",
       " 'U.N.',\n",
       " 'mission',\n",
       " 'headquarters',\n",
       " 'from',\n",
       " 'Eritrea',\n",
       " 'to',\n",
       " 'Ethiopia',\n",
       " 'and',\n",
       " 'downgrading',\n",
       " 'the',\n",
       " 'operation',\n",
       " 'to',\n",
       " 'either',\n",
       " 'an',\n",
       " 'observer',\n",
       " 'or',\n",
       " 'liaison',\n",
       " 'effort',\n",
       " '.']"
      ]
     },
     "execution_count": 269,
     "metadata": {},
     "output_type": "execute_result"
    }
   ],
   "source": [
    "train_sent[2990]"
   ]
  },
  {
   "cell_type": "code",
   "execution_count": 270,
   "metadata": {
    "scrolled": true
   },
   "outputs": [
    {
     "name": "stdout",
     "output_type": "stream",
     "text": [
      "30\n",
      "30\n"
     ]
    }
   ],
   "source": [
    "x=1\n",
    "print(len(train_labels[x]))\n",
    "print(len(train_sent[x]))"
   ]
  },
  {
   "cell_type": "code",
   "execution_count": 271,
   "metadata": {},
   "outputs": [],
   "source": [
    "ner.load_embed_vects(embedding_dim=50)"
   ]
  },
  {
   "cell_type": "code",
   "execution_count": 272,
   "metadata": {},
   "outputs": [],
   "source": [
    "nn_train_sent, nn_train_pos, nn_train_labels = ner.prep_train_for_nn()"
   ]
  },
  {
   "cell_type": "code",
   "execution_count": 273,
   "metadata": {
    "scrolled": true
   },
   "outputs": [
    {
     "name": "stdout",
     "output_type": "stream",
     "text": [
      "30\n",
      "30\n"
     ]
    }
   ],
   "source": [
    "print(len(nn_train_sent[x]))\n",
    "print(len(nn_train_labels[x]))"
   ]
  },
  {
   "cell_type": "code",
   "execution_count": 274,
   "metadata": {},
   "outputs": [],
   "source": [
    "ner.batch_starting_point = 0"
   ]
  },
  {
   "cell_type": "code",
   "execution_count": 275,
   "metadata": {},
   "outputs": [],
   "source": [
    "batch_1, labels_1 = next(ner.nn_train_batch_generator(nn_train_sent, nn_train_labels, nn_train_pos))"
   ]
  },
  {
   "cell_type": "code",
   "execution_count": 276,
   "metadata": {},
   "outputs": [
    {
     "data": {
      "text/plain": [
       "tensor([[5498,  732, 6014,  ...,    1,    1,    1],\n",
       "        [1528,  732, 1876,  ...,    1,    1,    1],\n",
       "        [6752, 5311, 7053,  ...,    1,    1,    1],\n",
       "        ...,\n",
       "        [8183, 4289,  835,  ...,    1,    1,    1],\n",
       "        [4816, 7374,  333,  ...,    1,    1,    1],\n",
       "        [6292, 6957, 3981,  ...,    1,    1,    1]])"
      ]
     },
     "execution_count": 276,
     "metadata": {},
     "output_type": "execute_result"
    }
   ],
   "source": [
    "batch_1"
   ]
  },
  {
   "cell_type": "code",
   "execution_count": 277,
   "metadata": {},
   "outputs": [],
   "source": [
    "import torch\n",
    "import torch.nn as nn\n",
    "import torch.nn.functional as F\n",
    "\n",
    "class Net(nn.Module):\n",
    "    def __init__(self, vocab_size, embedding_dim, lstm_hidden_dim, number_of_tags):\n",
    "        super(Net, self).__init__()\n",
    "\n",
    "        #maps each token to an embedding_dim vector\n",
    "        self.embedding = nn.Embedding(vocab_size, embedding_dim)\n",
    "\n",
    "        #the LSTM takens embedded sentence\n",
    "        self.lstm = nn.LSTM(embedding_dim, lstm_hidden_dim, batch_first=True)\n",
    "\n",
    "        #fc layer transforms the output to give the final output layer\n",
    "        self.fc = nn.Linear(lstm_hidden_dim, number_of_tags)\n",
    "    \n",
    "    def forward(self, s):\n",
    "        #apply the embedding layer that maps each token to its embedding\n",
    "        s = self.embedding(s)   # dim: batch_size x batch_max_len x embedding_dim\n",
    "\n",
    "        #run the LSTM along the sentences of length batch_max_len\n",
    "        s, _ = self.lstm(s)     # dim: batch_size x batch_max_len x lstm_hidden_dim                \n",
    "\n",
    "        #reshape the Variable so that each row contains one token\n",
    "        s = s.view(-1, s.shape[2])  # dim: batch_size*batch_max_len x lstm_hidden_dim\n",
    "\n",
    "        #apply the fully connected layer and obtain the output for each token\n",
    "        s = self.fc(s)          # dim: batch_size*batch_max_len x num_tags\n",
    "\n",
    "        return F.log_softmax(s, dim=1)   # dim: batch_size*b\n",
    "    \n",
    "    def loss_fn(outputs, labels):\n",
    "        #reshape labels to give a flat vector of length batch_size*seq_len\n",
    "        labels = labels.view(-1)  \n",
    "\n",
    "        #mask out 'PAD' tokens\n",
    "        mask = (labels >= 0).float()\n",
    "\n",
    "        #the number of tokens is the sum of elements in mask\n",
    "        num_tokens = int(torch.sum(mask).data[0])\n",
    "\n",
    "        #pick the values corresponding to labels and multiply by mask\n",
    "        outputs = outputs[range(outputs.shape[0]), labels]*mask\n",
    "\n",
    "        #cross entropy loss for all non 'PAD' tokens\n",
    "        return -torch.sum(outputs)/num_tokens\n",
    "    \n",
    "    \n",
    "\n",
    "    "
   ]
  },
  {
   "cell_type": "code",
   "execution_count": 278,
   "metadata": {},
   "outputs": [],
   "source": [
    "model = Net(ner.vocab_size, 50, 20, len(ner.ne_tag_map))"
   ]
  },
  {
   "cell_type": "code",
   "execution_count": 279,
   "metadata": {},
   "outputs": [],
   "source": [
    "optimizer = torch.optim.SGD(model.parameters(), lr = 0.01, momentum=0.9)\n"
   ]
  },
  {
   "cell_type": "code",
   "execution_count": 280,
   "metadata": {},
   "outputs": [
    {
     "data": {
      "text/plain": [
       "<generator object Module.parameters at 0x7ff3cbd12f10>"
      ]
     },
     "execution_count": 280,
     "metadata": {},
     "output_type": "execute_result"
    }
   ],
   "source": [
    "model.parameters()"
   ]
  },
  {
   "cell_type": "code",
   "execution_count": 281,
   "metadata": {},
   "outputs": [
    {
     "ename": "RuntimeError",
     "evalue": "view size is not compatible with input tensor's size and stride (at least one dimension spans across two contiguous subspaces). Use .reshape(...) instead.",
     "output_type": "error",
     "traceback": [
      "\u001b[0;31m---------------------------------------------------------------------------\u001b[0m",
      "\u001b[0;31mRuntimeError\u001b[0m                              Traceback (most recent call last)",
      "\u001b[0;32m<ipython-input-281-573aea5280cf>\u001b[0m in \u001b[0;36m<module>\u001b[0;34m\u001b[0m\n\u001b[1;32m      8\u001b[0m     \u001b[0mbatch_sentences\u001b[0m\u001b[0;34m,\u001b[0m \u001b[0mbatch_ne_labels\u001b[0m \u001b[0;34m=\u001b[0m \u001b[0mnext\u001b[0m\u001b[0;34m(\u001b[0m\u001b[0mtrain_iterator\u001b[0m\u001b[0;34m)\u001b[0m\u001b[0;34m\u001b[0m\u001b[0;34m\u001b[0m\u001b[0m\n\u001b[1;32m      9\u001b[0m \u001b[0;34m\u001b[0m\u001b[0m\n\u001b[0;32m---> 10\u001b[0;31m     \u001b[0moutput_batch\u001b[0m \u001b[0;34m=\u001b[0m \u001b[0mmodel\u001b[0m\u001b[0;34m(\u001b[0m\u001b[0mbatch_sentences\u001b[0m\u001b[0;34m)\u001b[0m\u001b[0;34m\u001b[0m\u001b[0;34m\u001b[0m\u001b[0m\n\u001b[0m\u001b[1;32m     11\u001b[0m \u001b[0;34m\u001b[0m\u001b[0m\n\u001b[1;32m     12\u001b[0m     \u001b[0mloss\u001b[0m \u001b[0;34m=\u001b[0m \u001b[0mNet\u001b[0m\u001b[0;34m.\u001b[0m\u001b[0mloss_fn\u001b[0m\u001b[0;34m(\u001b[0m\u001b[0moutput_batch\u001b[0m\u001b[0;34m,\u001b[0m \u001b[0mbatch_ne_labels\u001b[0m\u001b[0;34m)\u001b[0m\u001b[0;34m\u001b[0m\u001b[0;34m\u001b[0m\u001b[0m\n",
      "\u001b[0;32m~/opt/anaconda3/envs/learn-env/lib/python3.6/site-packages/torch/nn/modules/module.py\u001b[0m in \u001b[0;36m__call__\u001b[0;34m(self, *input, **kwargs)\u001b[0m\n\u001b[1;32m    548\u001b[0m             \u001b[0mresult\u001b[0m \u001b[0;34m=\u001b[0m \u001b[0mself\u001b[0m\u001b[0;34m.\u001b[0m\u001b[0m_slow_forward\u001b[0m\u001b[0;34m(\u001b[0m\u001b[0;34m*\u001b[0m\u001b[0minput\u001b[0m\u001b[0;34m,\u001b[0m \u001b[0;34m**\u001b[0m\u001b[0mkwargs\u001b[0m\u001b[0;34m)\u001b[0m\u001b[0;34m\u001b[0m\u001b[0;34m\u001b[0m\u001b[0m\n\u001b[1;32m    549\u001b[0m         \u001b[0;32melse\u001b[0m\u001b[0;34m:\u001b[0m\u001b[0;34m\u001b[0m\u001b[0;34m\u001b[0m\u001b[0m\n\u001b[0;32m--> 550\u001b[0;31m             \u001b[0mresult\u001b[0m \u001b[0;34m=\u001b[0m \u001b[0mself\u001b[0m\u001b[0;34m.\u001b[0m\u001b[0mforward\u001b[0m\u001b[0;34m(\u001b[0m\u001b[0;34m*\u001b[0m\u001b[0minput\u001b[0m\u001b[0;34m,\u001b[0m \u001b[0;34m**\u001b[0m\u001b[0mkwargs\u001b[0m\u001b[0;34m)\u001b[0m\u001b[0;34m\u001b[0m\u001b[0;34m\u001b[0m\u001b[0m\n\u001b[0m\u001b[1;32m    551\u001b[0m         \u001b[0;32mfor\u001b[0m \u001b[0mhook\u001b[0m \u001b[0;32min\u001b[0m \u001b[0mself\u001b[0m\u001b[0;34m.\u001b[0m\u001b[0m_forward_hooks\u001b[0m\u001b[0;34m.\u001b[0m\u001b[0mvalues\u001b[0m\u001b[0;34m(\u001b[0m\u001b[0;34m)\u001b[0m\u001b[0;34m:\u001b[0m\u001b[0;34m\u001b[0m\u001b[0;34m\u001b[0m\u001b[0m\n\u001b[1;32m    552\u001b[0m             \u001b[0mhook_result\u001b[0m \u001b[0;34m=\u001b[0m \u001b[0mhook\u001b[0m\u001b[0;34m(\u001b[0m\u001b[0mself\u001b[0m\u001b[0;34m,\u001b[0m \u001b[0minput\u001b[0m\u001b[0;34m,\u001b[0m \u001b[0mresult\u001b[0m\u001b[0;34m)\u001b[0m\u001b[0;34m\u001b[0m\u001b[0;34m\u001b[0m\u001b[0m\n",
      "\u001b[0;32m<ipython-input-277-1db1263dd49d>\u001b[0m in \u001b[0;36mforward\u001b[0;34m(self, s)\u001b[0m\n\u001b[1;32m     24\u001b[0m \u001b[0;34m\u001b[0m\u001b[0m\n\u001b[1;32m     25\u001b[0m         \u001b[0;31m#reshape the Variable so that each row contains one token\u001b[0m\u001b[0;34m\u001b[0m\u001b[0;34m\u001b[0m\u001b[0;34m\u001b[0m\u001b[0m\n\u001b[0;32m---> 26\u001b[0;31m         \u001b[0ms\u001b[0m \u001b[0;34m=\u001b[0m \u001b[0ms\u001b[0m\u001b[0;34m.\u001b[0m\u001b[0mview\u001b[0m\u001b[0;34m(\u001b[0m\u001b[0;34m-\u001b[0m\u001b[0;36m1\u001b[0m\u001b[0;34m,\u001b[0m \u001b[0ms\u001b[0m\u001b[0;34m.\u001b[0m\u001b[0mshape\u001b[0m\u001b[0;34m[\u001b[0m\u001b[0;36m2\u001b[0m\u001b[0;34m]\u001b[0m\u001b[0;34m)\u001b[0m  \u001b[0;31m# dim: batch_size*batch_max_len x lstm_hidden_dim\u001b[0m\u001b[0;34m\u001b[0m\u001b[0;34m\u001b[0m\u001b[0m\n\u001b[0m\u001b[1;32m     27\u001b[0m \u001b[0;34m\u001b[0m\u001b[0m\n\u001b[1;32m     28\u001b[0m         \u001b[0;31m#apply the fully connected layer and obtain the output for each token\u001b[0m\u001b[0;34m\u001b[0m\u001b[0;34m\u001b[0m\u001b[0;34m\u001b[0m\u001b[0m\n",
      "\u001b[0;31mRuntimeError\u001b[0m: view size is not compatible with input tensor's size and stride (at least one dimension spans across two contiguous subspaces). Use .reshape(...) instead."
     ]
    }
   ],
   "source": [
    "def accuracy(out, labels):\n",
    "    outputs = np.argmax(out, axis=1)\n",
    "    return np.sum(outputs==labels)/float(labels.size)\n",
    "\n",
    "train_iterator = ner.nn_train_batch_generator(nn_train_sent, nn_train_labels)\n",
    "\n",
    "for _ in range(10):\n",
    "    batch_sentences, batch_ne_labels = next(train_iterator)\n",
    "    \n",
    "    output_batch = model(batch_sentences)\n",
    "    \n",
    "    loss = Net.loss_fn(output_batch, batch_ne_labels)\n",
    "    optimizer.zero_grad()  # clear previous gradients\n",
    "    loss.backward()        # compute gradients of all variables wrt loss\n",
    "    optimizer.step()       # perform updates using calculated gradients\n",
    "\n",
    "    print(accuracy(output_batch, batch_ne_labels))\n",
    "    "
   ]
  },
  {
   "cell_type": "code",
   "execution_count": null,
   "metadata": {},
   "outputs": [],
   "source": []
  }
 ],
 "metadata": {
  "kernelspec": {
   "display_name": "learn-env",
   "language": "python",
   "name": "learn-env"
  },
  "language_info": {
   "codemirror_mode": {
    "name": "ipython",
    "version": 3
   },
   "file_extension": ".py",
   "mimetype": "text/x-python",
   "name": "python",
   "nbconvert_exporter": "python",
   "pygments_lexer": "ipython3",
   "version": "3.6.10"
  }
 },
 "nbformat": 4,
 "nbformat_minor": 4
}
